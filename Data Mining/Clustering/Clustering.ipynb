{
 "cells": [
  {
   "cell_type": "markdown",
   "metadata": {},
   "source": [
    "# K-Means vs Hierarchical and Agglomerative Clustering "
   ]
  },
  {
   "cell_type": "code",
   "execution_count": 1,
   "metadata": {},
   "outputs": [
    {
     "data": {
      "application/javascript": [
       "IPython.OutputArea.prototype._should_scroll = function(lines) {\n",
       "    return false;\n",
       "}\n"
      ],
      "text/plain": [
       "<IPython.core.display.Javascript object>"
      ]
     },
     "metadata": {},
     "output_type": "display_data"
    }
   ],
   "source": [
    "%%javascript\n",
    "IPython.OutputArea.prototype._should_scroll = function(lines) {\n",
    "    return false;\n",
    "}"
   ]
  },
  {
   "cell_type": "markdown",
   "metadata": {},
   "source": [
    "## Required Python Packages "
   ]
  },
  {
   "cell_type": "code",
   "execution_count": 2,
   "metadata": {},
   "outputs": [],
   "source": [
    "# Import required Python packages here\n",
    "\n",
    "import pandas as pd \n",
    "import numpy as np\n",
    "from sklearn.model_selection import train_test_split\n",
    "from scipy.spatial.distance import cdist\n",
    "from sklearn.cluster import KMeans\n",
    "from sklearn.metrics import classification_report\n",
    "from sklearn.preprocessing import StandardScaler\n",
    "from sklearn.decomposition import PCA\n",
    "from sklearn.metrics import confusion_matrix\n",
    "import matplotlib.pyplot as plt\n",
    "import pylab as pl"
   ]
  },
  {
   "cell_type": "markdown",
   "metadata": {},
   "source": [
    "## TASK 1: K-Means Clustering"
   ]
  },
  {
   "cell_type": "markdown",
   "metadata": {},
   "source": [
    "### Task 1-a: Determine “k” value from the elbow method"
   ]
  },
  {
   "cell_type": "code",
   "execution_count": 17,
   "metadata": {},
   "outputs": [
    {
     "data": {
      "image/png": "[encoded data removed]",
      "text/plain": [
       "<Figure size 432x288 with 1 Axes>"
      ]
     },
     "metadata": {
      "needs_background": "light"
     },
     "output_type": "display_data"
    }
   ],
   "source": [
    "data=pd.read_csv(\"drug_users.csv\")\n",
    "\n",
    "res = list()\n",
    "n_clstr = range(1,11)\n",
    "for n in n_clstr:\n",
    "    kmeans = KMeans(n_clusters=n)\n",
    "    kmeans.fit(data)\n",
    "    res.append(np.average(np.min(cdist(data, kmeans.cluster_centers_, 'euclidean'), axis=1)))\n",
    "\n",
    "plt.plot(n_clstr, res)\n",
    "plt.title('elbow curve')\n",
    "plt.show()"
   ]
  },
  {
   "cell_type": "markdown",
   "metadata": {},
   "source": [
    "### Task 1-b: Visualization for K-Means Clustering"
   ]
  },
  {
   "cell_type": "markdown",
   "metadata": {},
   "source": [
    "In this task, we will be performing k-means clustering for k=2 and visualize the predicted training samples and actual training samples on scatter plots. We use 70% of the dataset for training and 30% of the dataset for testing. "
   ]
  },
  {
   "cell_type": "code",
   "execution_count": 22,
   "metadata": {},
   "outputs": [
    {
     "name": "stdout",
     "output_type": "stream",
     "text": [
      "          Age   Gender  Education  Country  Ethnicity   Nscore   Escore  \\\n",
      "0     0.49788  0.48246   -0.05921  0.96082    0.12600  0.31287 -0.57545   \n",
      "1    -0.07854 -0.48246    1.98437  0.96082   -0.31685 -0.67825  1.93886   \n",
      "2     0.49788 -0.48246   -0.05921  0.96082   -0.31685 -0.46725  0.80523   \n",
      "3    -0.95197  0.48246    1.16365  0.96082   -0.31685 -0.14882 -0.80615   \n",
      "4     0.49788  0.48246    1.98437  0.96082   -0.31685  0.73545 -1.63340   \n",
      "5     2.59171  0.48246   -1.22751  0.24923   -0.31685 -0.67825 -0.30033   \n",
      "6     1.09449 -0.48246    1.16365 -0.57009   -0.31685 -0.46725 -1.09207   \n",
      "7     0.49788 -0.48246   -1.73790  0.96082   -0.31685 -1.32828  1.93886   \n",
      "8     0.49788  0.48246   -0.05921  0.24923   -0.31685  0.62967  2.57309   \n",
      "9     1.82213 -0.48246    1.16365  0.96082   -0.31685 -0.24649  0.00332   \n",
      "10   -0.07854  0.48246    0.45468  0.96082   -0.31685 -1.05308  0.80523   \n",
      "11    1.09449 -0.48246   -0.61113 -0.28519   -0.31685 -1.32828  0.00332   \n",
      "12    1.82213  0.48246    0.45468  0.96082   -0.31685  2.28554  0.16767   \n",
      "13    1.82213  0.48246   -0.05921  0.24923   -0.31685 -0.79151  0.80523   \n",
      "14    1.82213  0.48246   -0.05921  0.96082   -0.31685 -0.92104  1.45421   \n",
      "15    1.82213 -0.48246    0.45468  0.96082   -0.31685 -2.05048 -1.50796   \n",
      "16    0.49788  0.48246   -0.61113  0.96082   -0.31685 -1.55078 -0.80615   \n",
      "17    1.09449 -0.48246   -1.73790  0.96082   -0.31685  0.52135 -1.23177   \n",
      "18    1.82213 -0.48246    0.45468 -0.09765   -0.31685  1.37297 -0.15487   \n",
      "19    0.49788 -0.48246   -0.05921  0.96082   -0.31685 -0.34799 -1.76250   \n",
      "20    1.09449 -0.48246   -0.05921  0.96082   -0.31685 -0.79151  0.80523   \n",
      "21    2.59171 -0.48246   -2.43591  0.96082   -0.31685 -1.19430  0.47617   \n",
      "22    1.09449 -0.48246    0.45468  0.96082   -0.31685  0.41667 -0.94779   \n",
      "23    1.09449 -0.48246   -1.73790  0.96082   -0.31685  1.60383 -3.27393   \n",
      "24    1.82213 -0.48246    0.45468  0.96082   -0.31685 -0.14882  0.63779   \n",
      "25    1.09449 -0.48246   -0.61113  0.96082   -0.31685 -0.79151 -0.43999   \n",
      "26    1.82213  0.48246   -1.22751  0.24923   -0.31685 -0.05188 -1.63340   \n",
      "27    0.49788 -0.48246    0.45468  0.96082   -0.31685  0.52135 -1.23177   \n",
      "28    0.49788  0.48246    1.16365  0.96082   -0.31685  0.04257 -1.50796   \n",
      "29    1.09449 -0.48246    1.98437  0.96082   -0.31685 -1.32828  1.74091   \n",
      "...       ...      ...        ...      ...        ...      ...      ...   \n",
      "1855  0.49788 -0.48246   -0.05921 -0.28519   -0.31685 -1.19430  1.11406   \n",
      "1856 -0.95197 -0.48246   -0.61113 -0.57009   -0.31685  0.31287 -0.57545   \n",
      "1857 -0.95197 -0.48246   -0.61113 -0.57009   -0.31685  1.72012  0.32197   \n",
      "1858 -0.95197 -0.48246   -1.22751 -0.57009   -0.31685 -0.24649  0.32197   \n",
      "1859  0.49788 -0.48246   -0.61113 -0.28519   -0.31685 -0.34799  0.00332   \n",
      "1860  1.82213  0.48246    0.45468  0.24923   -0.31685 -1.69163 -1.09207   \n",
      "1861 -0.07854  0.48246    0.45468 -0.57009    0.11440 -0.34799  0.00332   \n",
      "1862  1.09449 -0.48246   -2.43591 -0.57009   -0.31685  0.73545 -0.43999   \n",
      "1863 -0.95197  0.48246   -0.61113 -0.57009   -0.31685  0.62967  0.63779   \n",
      "1864 -0.07854 -0.48246   -0.61113 -0.57009   -0.31685 -2.05048  0.00332   \n",
      "1865 -0.95197  0.48246   -0.05921 -0.57009   -0.31685  0.04257  0.00332   \n",
      "1866 -0.95197  0.48246    0.45468 -0.57009   -0.31685  0.13606 -0.80615   \n",
      "1867 -0.95197  0.48246   -0.61113 -0.57009   -0.31685  1.13281 -0.43999   \n",
      "1868 -0.95197 -0.48246   -0.61113 -0.28519   -0.31685 -0.58016 -0.15487   \n",
      "1869 -0.95197 -0.48246   -0.61113 -0.57009   -0.31685 -0.14882  1.11406   \n",
      "1870 -0.07854  0.48246    0.45468 -0.28519   -0.31685 -1.05308  0.96248   \n",
      "1871 -0.95197 -0.48246   -1.22751 -0.57009   -0.31685  1.02119 -0.43999   \n",
      "1872 -0.95197 -0.48246   -0.61113  0.24923   -0.31685 -0.79151  0.00332   \n",
      "1873 -0.95197 -0.48246   -1.43719 -0.57009   -0.31685  0.73545 -1.23177   \n",
      "1874  2.59171 -0.48246   -0.61113 -0.57009   -0.31685  2.12700 -0.15487   \n",
      "1875 -0.95197 -0.48246   -0.61113 -0.57009    0.12600 -0.05188 -1.76250   \n",
      "1876 -0.07854 -0.48246   -0.61113  0.24923    0.11440 -0.14882 -0.57545   \n",
      "1877 -0.95197 -0.48246   -1.43719 -0.57009   -0.31685  1.49158 -1.92173   \n",
      "1878 -0.95197 -0.48246    0.45468  0.24923   -0.31685 -0.05188 -1.76250   \n",
      "1879 -0.95197 -0.48246   -0.61113 -0.28519   -0.31685 -0.79151  0.32197   \n",
      "1880 -0.95197  0.48246   -0.61113 -0.57009   -0.31685 -1.19430  1.74091   \n",
      "1881 -0.95197 -0.48246   -0.61113 -0.57009   -0.31685 -0.24649  1.74091   \n",
      "1882 -0.07854  0.48246    0.45468 -0.57009   -0.31685  1.13281 -1.37639   \n",
      "1883 -0.95197  0.48246   -0.61113 -0.57009   -0.31685  0.91093 -1.92173   \n",
      "1884 -0.95197 -0.48246   -0.61113  0.21128   -0.31685 -0.46725  2.12700   \n",
      "\n",
      "       Oscore   Ascore   Cscore  Impulsive       SS  \n",
      "0    -0.58331 -0.91699 -0.00665   -0.21712 -1.18084  \n",
      "1     1.43533  0.76096 -0.14277   -0.71126 -0.21575  \n",
      "2    -0.84732 -1.62090 -1.01450   -1.37983  0.40148  \n",
      "3    -0.01928  0.59042  0.58489   -1.37983 -1.18084  \n",
      "4    -0.45174 -0.30172  1.30612   -0.21712 -0.21575  \n",
      "5    -1.55521  2.03972  1.63088   -1.37983 -1.54858  \n",
      "6    -0.45174 -0.30172  0.93949   -0.21712  0.07987  \n",
      "7    -0.84732 -0.30172  1.63088    0.19268 -0.52593  \n",
      "8    -0.97631  0.76096  1.13407   -1.37983 -1.54858  \n",
      "9    -1.42424  0.59042  0.12331   -1.37983 -0.84637  \n",
      "10   -1.11902 -0.76096  1.81175    0.19268  0.07987  \n",
      "11    0.14143 -1.92595 -0.52745    0.52975  1.22470  \n",
      "12    0.44585 -1.62090 -0.78155    1.29221  0.07987  \n",
      "13   -0.01928  0.94156  3.46436   -0.71126 -0.84637  \n",
      "14    0.44585 -0.60633  1.63088    1.29221  0.76540  \n",
      "15   -1.55521 -1.07533  1.13407   -0.71126 -0.52593  \n",
      "16   -1.68062  0.28783  0.75830   -0.21712 -2.07848  \n",
      "17   -0.31776 -0.45321 -1.38502   -1.37983 -0.84637  \n",
      "18   -0.17779 -1.92595 -1.51840   -0.71126 -0.21575  \n",
      "19   -2.39883 -1.92595  0.75830   -1.37983 -2.07848  \n",
      "20    0.72330  1.61108 -1.13788    0.19268 -0.21575  \n",
      "21   -1.11902 -0.60633  1.81175   -0.21712 -1.18084  \n",
      "22   -0.84732  1.11406 -0.89891   -0.71126  0.07987  \n",
      "23   -1.27553  0.28783 -1.01450   -1.37983 -1.54858  \n",
      "24    1.24033  0.76096  1.46191   -0.21712 -0.52593  \n",
      "25   -1.27553  0.94156 -0.00665   -0.21712  0.40148  \n",
      "26   -3.27393 -0.76096  0.58489    0.19268 -1.54858  \n",
      "27   -0.01928 -0.01729 -2.18109    1.86203  0.40148  \n",
      "28   -0.71727  0.28783  1.30612    0.19268 -0.52593  \n",
      "29    0.88309  0.94156  1.81175   -0.21712 -0.52593  \n",
      "...       ...      ...      ...        ...      ...  \n",
      "1855  0.58331 -0.01729  0.12331   -0.71126  0.40148  \n",
      "1856 -0.31776 -1.47955 -0.89891   -1.37983  0.76540  \n",
      "1857  1.65653 -0.15487 -1.78169    2.90161  0.40148  \n",
      "1858  0.44585 -0.15487 -0.14277    0.88113  1.22470  \n",
      "1859  0.72330  0.28783  0.12331   -0.21712  0.76540  \n",
      "1860  1.06238 -0.45321 -0.65253   -0.71126  0.07987  \n",
      "1861  1.24033 -0.15487  0.41594    0.88113  0.40148  \n",
      "1862  0.44585 -1.07533  0.25953    0.52975  0.40148  \n",
      "1863  2.90161 -1.07533  0.93949    0.88113  1.22470  \n",
      "1864  2.15324 -0.91699  0.41594   -0.21712  0.40148  \n",
      "1865  2.44904 -0.60633 -2.18109    0.88113  1.22470  \n",
      "1866  1.43533  0.28783  1.63088   -0.71126 -0.21575  \n",
      "1867  0.29338 -0.76096 -0.14277    1.86203 -0.21575  \n",
      "1868  0.29338 -1.62090 -1.38502    0.19268  0.40148  \n",
      "1869  1.43533 -0.30172 -0.00665    0.19268  0.76540  \n",
      "1870  1.88511  1.81866  1.30612   -0.71126  0.07987  \n",
      "1871  1.43533 -1.07533  0.12331   -0.71126  0.40148  \n",
      "1872  2.44904  0.76096 -1.51840    0.88113  1.92173  \n",
      "1873  0.58331 -0.60633 -0.40581    0.52975  0.40148  \n",
      "1874  2.44904  0.94156 -0.65253   -0.21712  0.07987  \n",
      "1875  0.58331 -0.76096 -0.14277    1.29221  1.22470  \n",
      "1876  1.43533 -0.91699 -0.78155    0.52975  0.40148  \n",
      "1877 -0.58331 -1.77200  0.58489   -0.21712  1.22470  \n",
      "1878  0.88309 -0.76096  2.33337   -0.71126 -0.21575  \n",
      "1879  0.29338 -0.30172 -0.27607    0.88113  0.76540  \n",
      "1880  1.88511  0.76096 -1.13788    0.88113  1.92173  \n",
      "1881  0.58331  0.76096 -1.51840    0.88113  0.76540  \n",
      "1882 -1.27553 -1.77200 -1.38502    0.52975 -0.52593  \n",
      "1883  0.29338 -1.62090 -2.57309    1.29221  1.22470  \n",
      "1884  1.65653  1.11406  0.41594    0.88113  1.22470  \n",
      "\n",
      "[1885 rows x 12 columns]\n",
      "0       0\n",
      "1       1\n",
      "2       0\n",
      "3       1\n",
      "4       0\n",
      "5       0\n",
      "6       0\n",
      "7       0\n",
      "8       0\n",
      "9       0\n",
      "10      0\n",
      "11      1\n",
      "12      1\n",
      "13      0\n",
      "14      0\n",
      "15      0\n",
      "16      0\n",
      "17      0\n",
      "18      0\n",
      "19      1\n",
      "20      0\n",
      "21      0\n",
      "22      0\n",
      "23      1\n",
      "24      0\n",
      "25      1\n",
      "26      0\n",
      "27      1\n",
      "28      0\n",
      "29      0\n",
      "       ..\n",
      "1855    1\n",
      "1856    1\n",
      "1857    1\n",
      "1858    1\n",
      "1859    1\n",
      "1860    1\n",
      "1861    1\n",
      "1862    1\n",
      "1863    1\n",
      "1864    1\n",
      "1865    1\n",
      "1866    1\n",
      "1867    1\n",
      "1868    1\n",
      "1869    1\n",
      "1870    1\n",
      "1871    1\n",
      "1872    1\n",
      "1873    1\n",
      "1874    1\n",
      "1875    1\n",
      "1876    1\n",
      "1877    1\n",
      "1878    0\n",
      "1879    1\n",
      "1880    1\n",
      "1881    1\n",
      "1882    1\n",
      "1883    1\n",
      "1884    1\n",
      "Name: CLASS, Length: 1885, dtype: int64\n"
     ]
    }
   ],
   "source": [
    "X = data.iloc[:, 0:12];\n",
    "print(X);\n",
    "Y = data.iloc[:, 12];\n",
    "print(Y);\n",
    "\n",
    "X_train, X_test, Y_train, Y_test = train_test_split(X, Y, test_size = 0.3);"
   ]
  },
  {
   "cell_type": "code",
   "execution_count": 32,
   "metadata": {},
   "outputs": [
    {
     "name": "stdout",
     "output_type": "stream",
     "text": [
      "<class 'pandas.core.frame.DataFrame'>\n"
     ]
    },
    {
     "name": "stderr",
     "output_type": "stream",
     "text": [
      "c:\\users\\sanju\\appdata\\local\\programs\\python\\python37-32\\lib\\site-packages\\matplotlib\\collections.py:874: RuntimeWarning: invalid value encountered in sqrt\n",
      "  scale = np.sqrt(self._sizes) * dpi / 72.0 * self._factor\n"
     ]
    },
    {
     "data": {
      "image/png": "[encoded data removed]",
      "text/plain": [
       "<Figure size 504x504 with 1 Axes>"
      ]
     },
     "metadata": {
      "needs_background": "light"
     },
     "output_type": "display_data"
    }
   ],
   "source": [
    "from sklearn.decomposition import PCA\n",
    "kmeans = KMeans(n_clusters=2)\n",
    "\n",
    "#Since, we observed an elbow at n=2 from the graph., we proceed with 2 clusters\n",
    "kmeans.fit(X_train)\n",
    "\n",
    "y_pred =kmeans.predict(X_train)\n",
    "y_pred_df=pd.DataFrame(data=y_pred)\n",
    "X_train_pca = pd.DataFrame(X_train.values)\n",
    "\n",
    "# Data Normalization\n",
    "from sklearn.preprocessing import StandardScaler\n",
    "X_standard = StandardScaler().fit_transform(X_train)\n",
    "\n",
    "# Visualize the predicted training labels vs actual training labels. \n",
    "pca = PCA(n_components=2)\n",
    "x_7d = pd.DataFrame(pca.fit_transform(X_standard))\n",
    "print(type(x_7d))\n",
    "output=pd.concat([x_7d,y_pred_df],axis=1)\n",
    "LABEL_COLOR_MAP = {0:'r', 1: 'g', 2: 'b'}\n",
    "label_color = [LABEL_COLOR_MAP[l] for l in y_pred]\n",
    "\n",
    "plt.figure(figsize = (7,7))\n",
    "\n",
    "plt.scatter(x_7d.iloc[:,0],x_7d.iloc[:,1], output,c= label_color, alpha=0.9) \n",
    "plt.show()"
   ]
  },
  {
   "cell_type": "markdown",
   "metadata": {},
   "source": [
    "Now, you need to visualize the predicted testing labels versus actual testing labels. Use the trained model in previous step."
   ]
  },
  {
   "cell_type": "code",
   "execution_count": 34,
   "metadata": {},
   "outputs": [
    {
     "name": "stdout",
     "output_type": "stream",
     "text": [
      "<class 'pandas.core.frame.DataFrame'>\n"
     ]
    },
    {
     "name": "stderr",
     "output_type": "stream",
     "text": [
      "c:\\users\\sanju\\appdata\\local\\programs\\python\\python37-32\\lib\\site-packages\\matplotlib\\collections.py:874: RuntimeWarning: invalid value encountered in sqrt\n",
      "  scale = np.sqrt(self._sizes) * dpi / 72.0 * self._factor\n"
     ]
    },
    {
     "data": {
      "image/png": "[encoded data removed]",
      "text/plain": [
       "<Figure size 432x432 with 1 Axes>"
      ]
     },
     "metadata": {
      "needs_background": "light"
     },
     "output_type": "display_data"
    }
   ],
   "source": [
    "from sklearn.decomposition import PCA\n",
    "kmeans = KMeans(n_clusters=2)\n",
    "kmeans.fit(X_test)\n",
    "y_pred = kmeans.predict(X_test)\n",
    "y_pred_df = pd.DataFrame(data=y_pred)\n",
    "\n",
    "X_test_pca = pd.DataFrame(X_test.values)\n",
    "\n",
    "# Data Normalization\n",
    "from sklearn.preprocessing import StandardScaler\n",
    "X_std = StandardScaler().fit_transform(X_test)pca = PCA(n_components=2)\n",
    "x_7d = pd.DataFrame(pca.fit_transform(X_std))\n",
    "print(type(x_7d))\n",
    "finaldata=pd.concat([x_7d,y_pred_df],axis=1)\n",
    "LABEL_COLOR_MAP = {0:'r', 1: 'g', 2: 'b'}\n",
    "label_color = [LABEL_COLOR_MAP[l] for l in y_pred]\n",
    "\n",
    "plt.figure(figsize = (6,6))\n",
    "plt.scatter(x_7d.iloc[:,0],x_7d.iloc[:,1], finaldata,c= label_color, alpha=0.9) \n",
    "plt.show()"
   ]
  },
  {
   "cell_type": "markdown",
   "metadata": {},
   "source": [
    "In this step, you need to provide the evaluation of your clustering model. Print out a confusion matrix."
   ]
  },
  {
   "cell_type": "code",
   "execution_count": 7,
   "metadata": {},
   "outputs": [
    {
     "name": "stdout",
     "output_type": "stream",
     "text": [
      "[[192  37]\n",
      " [ 90 247]]\n"
     ]
    }
   ],
   "source": [
    "from sklearn.metrics import confusion_matrix\n",
    "print(confusion_matrix(Y_test,y_pred));"
   ]
  },
  {
   "cell_type": "markdown",
   "metadata": {},
   "source": [
    "#  Hierarchical Agglomerative  Clustering"
   ]
  },
  {
   "cell_type": "markdown",
   "metadata": {},
   "source": [
    "## Task 2-a: Find the best Hierarchical Agglomerative Clustering Model"
   ]
  },
  {
   "cell_type": "markdown",
   "metadata": {},
   "source": [
    "In this task, we will be performing Hierarchical Agglomerative clustering with different linkage methods (complete and average) and different similarity measures (cosine, euclidean, and manhattan) in order to find the best pair of linkage method and similarity measure. Use F1 score for evaluation and take n_clusters = 2.\n"
   ]
  },
  {
   "cell_type": "code",
   "execution_count": 35,
   "metadata": {},
   "outputs": [
    {
     "name": "stdout",
     "output_type": "stream",
     "text": [
      "F1-score for complete linkage + cosine 0.653061224489796\n",
      "F1-score for complete linkage + euclidean 0.6119733924611973\n",
      "F1-score for complete linkage + manhattan 0.6716981132075471\n",
      "F1-score for average linkage + cosine 0.2017200938232995\n",
      "F1-score for average linkage + euclidean 0.17063989962358844\n",
      "F1-score for average linkage + manhattan 0.1704260651629073\n"
     ]
    }
   ],
   "source": [
    "\n",
    "from sklearn.cluster import AgglomerativeClustering\n",
    "from sklearn.metrics.pairwise import pairwise_distances\n",
    "from sklearn.metrics import f1_score\n",
    "\n",
    "prdstmrx_train = pairwise_distances(X_train, Y=None, metric='euclidean')\n",
    "\n",
    "## Model and fit the training data to the AgglomerativeClustering model\n",
    "## complete linkage + cosine\n",
    "CompleteCosine = AgglomerativeClustering(n_clusters=2, affinity='cosine', linkage='complete')\n",
    "y_pred_complete_cosine = CompleteCosine.fit_predict(prdstmrx_train)\n",
    "f1_score_complete_cosine = f1_score(Y_train, y_pred_complete_cosine, labels=None, pos_label=1, average='binary', sample_weight=None)\n",
    "\n",
    "## Model and fit the training data to the AgglomerativeClustering model\n",
    "## complete linkage + euclidean\n",
    "CompleteEuclidean = AgglomerativeClustering(n_clusters=2, affinity='euclidean', linkage='complete')\n",
    "y_pred_complete_euclidean = CompleteEuclidean.fit_predict(prdstmrx_train)\n",
    "f1_score_complete_euclidean = f1_score(Y_train, y_pred_complete_euclidean, labels=None, pos_label=1, average='binary', sample_weight=None)\n",
    "\n",
    "\n",
    "## Model and fit the training data to the AgglomerativeClustering model\n",
    "## complete linkage + manhattan\n",
    "CompleteManhattan = AgglomerativeClustering(n_clusters=2, affinity='manhattan', linkage='complete')\n",
    "y_pred_complete_manhattan = CompleteManhattan.fit_predict(prdstmrx_train)\n",
    "f1_score_complete_manhattan = f1_score(Y_train, y_pred_complete_manhattan, labels=None, pos_label=1, average='binary', sample_weight=None)\n",
    "\n",
    "## Model and fit the training data to the AgglomerativeClustering model\n",
    "## average linkage + cosine\n",
    "AverageCosine = AgglomerativeClustering(n_clusters=2, affinity='cosine', linkage='average')\n",
    "y_pred_average_cosine = AverageCosine.fit_predict(prdstmrx_train)\n",
    "f1_score_average_cosine = f1_score(Y_train, y_pred_average_cosine, labels=None, pos_label=1, average='binary', sample_weight=None)\n",
    "\n",
    "## Model and fit the training data to the AgglomerativeClustering model\n",
    "## average linkage + euclidean\n",
    "AverageEuclidean = AgglomerativeClustering(n_clusters=2, affinity='euclidean', linkage='average')\n",
    "y_pred_average_euclidean = AverageEuclidean.fit_predict(prdstmrx_train)\n",
    "f1_score_average_euclidean = f1_score(Y_train, y_pred_average_euclidean, labels=None, pos_label=1, average='binary', sample_weight=None)\n",
    "\n",
    "## Model and fit the training data to the AgglomerativeClustering model\n",
    "## average linkage + manhattan\n",
    "AverageManhattan = AgglomerativeClustering(n_clusters=2, affinity='manhattan', linkage='average')\n",
    "y_pred_average_manhattan = AverageManhattan.fit_predict(prdstmrx_train)\n",
    "f1_score_average_manhattan = f1_score(Y_train, y_pred_average_manhattan, labels=None, pos_label=1, average='binary', sample_weight=None)\n",
    "\n",
    "\n",
    "print(\"F1-score for complete linkage + cosine\", f1_score_complete_cosine)\n",
    "print(\"F1-score for complete linkage + euclidean\", f1_score_complete_euclidean)\n",
    "print(\"F1-score for complete linkage + manhattan\", f1_score_complete_manhattan)\n",
    "print(\"F1-score for average linkage + cosine\", f1_score_average_cosine)\n",
    "print(\"F1-score for average linkage + euclidean\", f1_score_average_euclidean)\n",
    "print(\"F1-score for average linkage + manhattan\", f1_score_average_manhattan)"
   ]
  },
  {
   "cell_type": "markdown",
   "metadata": {},
   "source": [
    "## Task 2-b:  Visualization for Hierarchical Agglomerative Clustering"
   ]
  },
  {
   "cell_type": "markdown",
   "metadata": {},
   "source": [
    "Finding the best performed model from the previous step and use that model for visualizing the predicted training samples and actual training samples on scatter plots. We use PCA model for visualizing your data (use X_train_pca from Task 1-b-2). "
   ]
  },
  {
   "cell_type": "code",
   "execution_count": 37,
   "metadata": {},
   "outputs": [
    {
     "name": "stdout",
     "output_type": "stream",
     "text": [
      "<class 'pandas.core.frame.DataFrame'>\n"
     ]
    },
    {
     "name": "stderr",
     "output_type": "stream",
     "text": [
      "c:\\users\\sanju\\appdata\\local\\programs\\python\\python37-32\\lib\\site-packages\\matplotlib\\collections.py:874: RuntimeWarning: invalid value encountered in sqrt\n",
      "  scale = np.sqrt(self._sizes) * dpi / 72.0 * self._factor\n"
     ]
    },
    {
     "data": {
      "image/png": "[encoded data removed]",
      "text/plain": [
       "<Figure size 504x504 with 1 Axes>"
      ]
     },
     "metadata": {
      "needs_background": "light"
     },
     "output_type": "display_data"
    }
   ],
   "source": [
    "y_pred_dataframe=pd.DataFrame(data=y_pred_complete_cosine)\n",
    "\n",
    "pca = PCA(n_components=2)\n",
    "x_7d = pd.DataFrame(pca.fit_transform(X_std))\n",
    "print(type(x_7d))\n",
    "finaldata=pd.concat([x_7d,y_pred_df],axis=1)\n",
    "LABEL_COLOR_MAP = {0:'r', 1: 'g', 2: 'b'}\n",
    "label_color = [LABEL_COLOR_MAP[l] for l in y_pred]\n",
    "\n",
    "plt.figure(figsize = (7,7))\n",
    "plt.scatter(x_7d.iloc[:,0],x_7d.iloc[:,1], finaldata,c= label_color, alpha=0.9) \n",
    "plt.show()"
   ]
  },
  {
   "cell_type": "markdown",
   "metadata": {},
   "source": [
    "#   Compare K-Means Clustering and Hierarchical Agglomerative Clustering"
   ]
  },
  {
   "cell_type": "markdown",
   "metadata": {},
   "source": [
    "## Task 3-a: Visualize Clusters "
   ]
  },
  {
   "cell_type": "markdown",
   "metadata": {},
   "source": [
    "In this task, use whole dataset for training k-means cluster and hierarchical agglomerative clustering. Use the best model for agglomerative clustering. Visualize the predicted labels from k-means clustering and agglomerative clustering versus actual labels. Basically, you need to plot three scatter plots as subplots. "
   ]
  },
  {
   "cell_type": "code",
   "execution_count": 39,
   "metadata": {},
   "outputs": [
    {
     "name": "stderr",
     "output_type": "stream",
     "text": [
      "c:\\users\\sanju\\appdata\\local\\programs\\python\\python37-32\\lib\\site-packages\\sklearn\\cluster\\hierarchical.py:471: ClusterWarning: scipy.cluster: The symmetric non-negative hollow observation matrix looks suspiciously like an uncondensed distance matrix\n",
      "  out = hierarchy.linkage(X, method=linkage, metric=affinity)\n"
     ]
    },
    {
     "name": "stdout",
     "output_type": "stream",
     "text": [
      "<class 'pandas.core.frame.DataFrame'>\n"
     ]
    },
    {
     "name": "stderr",
     "output_type": "stream",
     "text": [
      "c:\\users\\sanju\\appdata\\local\\programs\\python\\python37-32\\lib\\site-packages\\matplotlib\\collections.py:874: RuntimeWarning: invalid value encountered in sqrt\n",
      "  scale = np.sqrt(self._sizes) * dpi / 72.0 * self._factor\n"
     ]
    },
    {
     "data": {
      "image/png": "[encoded data removed]",
      "text/plain": [
       "<Figure size 504x504 with 3 Axes>"
      ]
     },
     "metadata": {
      "needs_background": "light"
     },
     "output_type": "display_data"
    }
   ],
   "source": [
    "X_train = data.iloc[:, 0:12]\n",
    "Y_split = data.iloc[:, 12]\n",
    "\n",
    "kmeans = KMeans(n_clusters=2)\n",
    "y_pred_k = kmeans.fit_predict(X_train)\n",
    "\n",
    "y_pred_df = pd.DataFrame(data=y_pred_k)\n",
    "\n",
    "prdstmrx_train = pairwise_distances(X_train, Y = None, metric='euclidean')\n",
    "\n",
    "# Model and fit the data to the Agglomerative (use fit_predict : Performs clustering on X and returns cluster labels.)\n",
    "\n",
    "CompleteCosine = AgglomerativeClustering(n_clusters=2, affinity='cosine', linkage='complete')\n",
    "y_pred_complete_cosine = pd.DataFrame(CompleteCosine.fit_predict(prdstmrx_train))\n",
    "\n",
    "X_pca = pd.DataFrame(X_test.values)\n",
    "\n",
    "from sklearn.preprocessing import StandardScaler\n",
    "\n",
    "X_std = StandardScaler().fit_transform(X_pca)\n",
    "\n",
    "\n",
    "pca = PCA(n_components=2)\n",
    "x_7d = pd.DataFrame(pca.fit_transform(X_std))\n",
    "print(type(x_7d))\n",
    "y_split_df=pd.DataFrame(data=Y_split)\n",
    "finaldata=pd.concat([x_7d,y_split_df],axis=1)\n",
    "finaldata_k=pd.concat([x_7d,y_pred_df],axis=1)\n",
    "finaldata_a=pd.concat([x_7d,y_pred_complete_cosine])\n",
    "LABEL_COLOR_MAP = {0:'r', 1: 'g', 2: 'b'}\n",
    "label_color = [LABEL_COLOR_MAP[l] for l in y_pred]\n",
    "\n",
    "plt.figure(figsize = (7,7))\n",
    "ax=plt.subplot(2, 2, 1)\n",
    "kx=plt.subplot(2,2,2)\n",
    "aglox=plt.subplot(2,2,3)\n",
    "ax.scatter(x_7d.iloc[:,0],x_7d.iloc[:,1], finaldata,c= label_color, alpha=0.9) \n",
    "kx.scatter(x_7d.iloc[:,0],x_7d.iloc[:,1], finaldata_k,c= label_color, alpha=0.9) \n",
    "aglox.scatter(x_7d.iloc[:,0],x_7d.iloc[:,1], finaldata_a,c= label_color, alpha=0.9) \n",
    "plt.show()"
   ]
  },
  {
   "cell_type": "markdown",
   "metadata": {},
   "source": [
    "## Compare K-Means Clustering &  Hierarchical Agglomerative Clustering"
   ]
  },
  {
   "cell_type": "code",
   "execution_count": 40,
   "metadata": {},
   "outputs": [
    {
     "name": "stdout",
     "output_type": "stream",
     "text": [
      "K-means information:\n",
      "[[683 157]\n",
      " [272 773]]\n",
      "              precision    recall  f1-score   support\n",
      "\n",
      "           0       0.72      0.81      0.76       840\n",
      "           1       0.83      0.74      0.78      1045\n",
      "\n",
      "   micro avg       0.77      0.77      0.77      1885\n",
      "   macro avg       0.77      0.78      0.77      1885\n",
      "weighted avg       0.78      0.77      0.77      1885\n",
      "\n",
      "Agglomerative clustering information:\n",
      "[[702 138]\n",
      " [390 655]]\n",
      "              precision    recall  f1-score   support\n",
      "\n",
      "           0       0.64      0.84      0.73       840\n",
      "           1       0.83      0.63      0.71      1045\n",
      "\n",
      "   micro avg       0.72      0.72      0.72      1885\n",
      "   macro avg       0.73      0.73      0.72      1885\n",
      "weighted avg       0.74      0.72      0.72      1885\n",
      "\n"
     ]
    }
   ],
   "source": [
    "print(\"K-means information:\")\n",
    "print(confusion_matrix(Y_split,y_pred_k))\n",
    "print(classification_report(Y_split,y_pred_k))\n",
    "\n",
    "print(\"Agglomerative clustering information:\")\n",
    "print(confusion_matrix(Y_split,y_pred_complete_cosine))\n",
    "print(classification_report(Y_split,y_pred_complete_cosine))"
   ]
  },
  {
   "cell_type": "code",
   "execution_count": 1,
   "metadata": {},
   "outputs": [
    {
     "name": "stdout",
     "output_type": "stream",
     "text": [
      "The classification report of K-means is better than that of Agglomerative clustering because Precision, Recall, F1-score, and Support values are more for K-means.\n"
     ]
    }
   ],
   "source": [
    "print('The classification report of K-means is better than that of Agglomerative clustering because Precision, Recall, F1-score, and Support values are more for K-means.')"
   ]
  },
  {
   "cell_type": "code",
   "execution_count": 3,
   "metadata": {},
   "outputs": [
    {
     "ename": "SyntaxError",
     "evalue": "invalid syntax (<ipython-input-3-de12cdb97682>, line 2)",
     "output_type": "error",
     "traceback": [
      "\u001b[1;36m  File \u001b[1;32m\"<ipython-input-3-de12cdb97682>\"\u001b[1;36m, line \u001b[1;32m2\u001b[0m\n\u001b[1;33m    https://stackoverflow.com/questions/41540751/sklearn-kmeans-equivalent-of-elbow-method\u001b[0m\n\u001b[1;37m           ^\u001b[0m\n\u001b[1;31mSyntaxError\u001b[0m\u001b[1;31m:\u001b[0m invalid syntax\n"
     ]
    }
   ],
   "source": [
    "# References\n",
    "https://stackoverflow.com/questions/41540751/sklearn-kmeans-equivalent-of-elbow-method \n",
    "https://stackabuse.com/hierarchical-clustering-with-python-and-scikit-learn/\n",
    "https://stats.stackexchange.com/questions/183236/what-is-the-relation-between-k-means-clustering-and-pca\n",
    "https://towardsdatascience.com/pca-using-python-scikit-learn-e653f8989e60 \n",
    "https://www.datacamp.com/community/tutorials/k-means-clustering-python  \n",
    "http://ranger.uta.edu/~chqding/papers/KmeansPCA1.pdf\n",
    "https://towardsdatascience.com/unsupervised-learning-k-means-vs-hierarchical-clustering-5fe2da7c9554 \n",
    "https://towardsdatascience.com/accuracy-precision-recall-or-f1-331fb37c5cb9\n"
   ]
  }
 ],
 "metadata": {
  "celltoolbar": "Raw Cell Format",
  "kernelspec": {
   "display_name": "Python 3",
   "language": "python",
   "name": "python3"
  },
  "language_info": {
   "codemirror_mode": {
    "name": "ipython",
    "version": 3
   },
   "file_extension": ".py",
   "mimetype": "text/x-python",
   "name": "python",
   "nbconvert_exporter": "python",
   "pygments_lexer": "ipython3",
   "version": "3.7.3"
  }
 },
 "nbformat": 4,
 "nbformat_minor": 1
}

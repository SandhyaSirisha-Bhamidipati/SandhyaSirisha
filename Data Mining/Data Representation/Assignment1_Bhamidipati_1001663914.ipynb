{
 "cells": [
  {
   "cell_type": "markdown",
   "metadata": {},
   "source": [
    "## Student Details\n",
    "\n",
    "When submitting, fill your name and ID in this cell. Note that this is a markdown cell.\n",
    "\n",
    "Student Name and ID: Bhamidipati, Sandhya Sirisha [1001663914]"
   ]
  },
  {
   "cell_type": "markdown",
   "metadata": {},
   "source": [
    "# Programming Assignment 1: \n",
    "# Exploratory Analysis over census data for salaries from the year 1994\n"
   ]
  },
  {
   "cell_type": "markdown",
   "metadata": {},
   "source": [
    "# Assignment Details\n",
    "\n",
    "In this assignment, you will conduct a guided exploration over census1994 Dataset. You will learn and use some of the most common exploration/aggregation/descriptive operations. This should also help you learn most of the key functionalities in Pandas.\n",
    "\n",
    "You will also learn how to use visualization libraries to identify patterns in data that will help in your further data analysis. You will also explore most popular chart types and how to use different libraries and styles to make your visualizations more attractive."
   ]
  },
  {
   "cell_type": "markdown",
   "metadata": {},
   "source": [
    "# Dataset Details\n",
    "\n",
    "In this assignment, you will work on census1994 dataset. This data was extracted from the census bureau database.\n",
    "Extraction was done by Barry Becker from the 1994 Census database. The objective of the survey was to determine whether a person makes over 50K a year or not. \n",
    "\n",
    "### census 1994 Dataset\n",
    "\n",
    "## >50K, <=50K.\n",
    "## age: continuous.\n",
    "## workclass: Private, Self-emp-not-inc, Self-emp-inc, Federal-gov, Local-gov, State-gov, Without-pay, Never-worked.\n",
    "## fnlwgt: continuous.\n",
    "## education: Bachelors, Some-college, 11th, HS-grad, Prof-school, Assoc-acdm, Assoc-voc, 9th, 7th-8th, 12th, Masters, 1st-4th, 10th, Doctorate, 5th-6th, Preschool.\n",
    "## education-num: continuous.\n",
    "## marital-status: Married-civ-spouse, Divorced, Never-married, Separated, Widowed, Married-spouse-absent, Married-AF-spouse.\n",
    "## occupation: Tech-support, Craft-repair, Other-service, Sales, Exec-managerial, Prof-specialty, Handlers-cleaners, Machine-op-inspct, Adm-clerical, Farming-fishing, Transport-moving, Priv-house-serv, Protective-serv, Armed-Forces.\n",
    "## relationship: Wife, Own-child, Husband, Not-in-family, Other-relative, Unmarried.\n",
    "## race: White, Asian-Pac-Islander, Amer-Indian-Eskimo, Other, Black.\n",
    "## gender: Female, Male.\n",
    "## capital-gain: continuous.\n",
    "## capital-loss: continuous.\n",
    "## hours-per-week: continuous.\n",
    "## native-country: United-States, Cambodia, England, Puerto-Rico, Canada, Germany, Outlying-US(Guam-USVI-etc), India, Japan, Greece, South, China, Cuba, Iran, Honduras, Philippines, Italy, Poland, Jamaica, Vietnam, Mexico, Portugal, Ireland, France, Dominican-Republic, Laos, Ecuador, Taiwan, Haiti, Columbia, Hungary, Guatemala, Nicaragua, Scotland, Thailand, Yugoslavia, El-Salvador, Trinadad&Tobago, Peru, Hong, Holand-Netherlands."
   ]
  },
  {
   "cell_type": "markdown",
   "metadata": {},
   "source": [
    "# Required Python Packages\n",
    "You will use the packages imported below in this assignment. \n",
    "You will not require any other packages. "
   ]
  },
  {
   "cell_type": "code",
   "execution_count": 115,
   "metadata": {},
   "outputs": [],
   "source": [
    "# special IPython command to prepare the notebook for matplotlib\n",
    "%matplotlib inline \n",
    "\n",
    "#Array processing\n",
    "import numpy as np\n",
    "#Data analysis, wrangling and common exploratory operations\n",
    "import pandas as pd\n",
    "from pandas import Series, DataFrame\n",
    "\n",
    "#For visualization. Matplotlib for basic viz and seaborn for more stylish figures\n",
    "import matplotlib.pyplot as plt\n",
    "import seaborn as sns\n",
    "\n",
    "#For some of the date operations\n",
    "#import datetime"
   ]
  },
  {
   "cell_type": "markdown",
   "metadata": {},
   "source": [
    "# Reading Dataset\n",
    "The Python code below reads the census1994 dataset into a Pandas data frame with the name df_census. \n",
    "For this code to work, the file 'census1994.csv' must be in the same folder as the notebook.\n"
   ]
  },
  {
   "cell_type": "code",
   "execution_count": 116,
   "metadata": {},
   "outputs": [
    {
     "data": {
      "text/html": [
       "<div>\n",
       "<style scoped>\n",
       "    .dataframe tbody tr th:only-of-type {\n",
       "        vertical-align: middle;\n",
       "    }\n",
       "\n",
       "    .dataframe tbody tr th {\n",
       "        vertical-align: top;\n",
       "    }\n",
       "\n",
       "    .dataframe thead th {\n",
       "        text-align: right;\n",
       "    }\n",
       "</style>\n",
       "<table border=\"1\" class=\"dataframe\">\n",
       "  <thead>\n",
       "    <tr style=\"text-align: right;\">\n",
       "      <th></th>\n",
       "      <th>Date</th>\n",
       "      <th>Age</th>\n",
       "      <th>WorkClass</th>\n",
       "      <th>fnlwgt</th>\n",
       "      <th>education</th>\n",
       "      <th>education-num</th>\n",
       "      <th>marital-status</th>\n",
       "      <th>occupation</th>\n",
       "      <th>relationship</th>\n",
       "      <th>race</th>\n",
       "      <th>gender</th>\n",
       "      <th>capital-gain</th>\n",
       "      <th>capital-loss</th>\n",
       "      <th>hours-per-week</th>\n",
       "      <th>native-country</th>\n",
       "      <th>class</th>\n",
       "    </tr>\n",
       "  </thead>\n",
       "  <tbody>\n",
       "    <tr>\n",
       "      <th>0</th>\n",
       "      <td>3/20/1994</td>\n",
       "      <td>39</td>\n",
       "      <td>State-gov</td>\n",
       "      <td>77516</td>\n",
       "      <td>Bachelors</td>\n",
       "      <td>13</td>\n",
       "      <td>Never-married</td>\n",
       "      <td>Adm-clerical</td>\n",
       "      <td>Not-in-family</td>\n",
       "      <td>White</td>\n",
       "      <td>Male</td>\n",
       "      <td>2174</td>\n",
       "      <td>0</td>\n",
       "      <td>40</td>\n",
       "      <td>United-States</td>\n",
       "      <td>&lt;=50K</td>\n",
       "    </tr>\n",
       "    <tr>\n",
       "      <th>1</th>\n",
       "      <td>1/14/1994</td>\n",
       "      <td>50</td>\n",
       "      <td>Self-emp-not-inc</td>\n",
       "      <td>83311</td>\n",
       "      <td>Bachelors</td>\n",
       "      <td>13</td>\n",
       "      <td>Married-civ-spouse</td>\n",
       "      <td>Exec-managerial</td>\n",
       "      <td>Husband</td>\n",
       "      <td>White</td>\n",
       "      <td>Male</td>\n",
       "      <td>0</td>\n",
       "      <td>0</td>\n",
       "      <td>13</td>\n",
       "      <td>United-States</td>\n",
       "      <td>&lt;=50K</td>\n",
       "    </tr>\n",
       "    <tr>\n",
       "      <th>2</th>\n",
       "      <td>8/14/1994</td>\n",
       "      <td>38</td>\n",
       "      <td>Private</td>\n",
       "      <td>215646</td>\n",
       "      <td>HS-grad</td>\n",
       "      <td>9</td>\n",
       "      <td>Divorced</td>\n",
       "      <td>Handlers-cleaners</td>\n",
       "      <td>Not-in-family</td>\n",
       "      <td>White</td>\n",
       "      <td>Male</td>\n",
       "      <td>0</td>\n",
       "      <td>0</td>\n",
       "      <td>40</td>\n",
       "      <td>United-States</td>\n",
       "      <td>&lt;=50K</td>\n",
       "    </tr>\n",
       "    <tr>\n",
       "      <th>3</th>\n",
       "      <td>3/17/1994</td>\n",
       "      <td>53</td>\n",
       "      <td>Private</td>\n",
       "      <td>234721</td>\n",
       "      <td>11th</td>\n",
       "      <td>7</td>\n",
       "      <td>Married-civ-spouse</td>\n",
       "      <td>Handlers-cleaners</td>\n",
       "      <td>Husband</td>\n",
       "      <td>Black</td>\n",
       "      <td>Male</td>\n",
       "      <td>0</td>\n",
       "      <td>0</td>\n",
       "      <td>40</td>\n",
       "      <td>United-States</td>\n",
       "      <td>&lt;=50K</td>\n",
       "    </tr>\n",
       "    <tr>\n",
       "      <th>4</th>\n",
       "      <td>9/20/1994</td>\n",
       "      <td>28</td>\n",
       "      <td>Private</td>\n",
       "      <td>338409</td>\n",
       "      <td>Bachelors</td>\n",
       "      <td>13</td>\n",
       "      <td>Married-civ-spouse</td>\n",
       "      <td>Prof-specialty</td>\n",
       "      <td>Wife</td>\n",
       "      <td>Black</td>\n",
       "      <td>Female</td>\n",
       "      <td>0</td>\n",
       "      <td>0</td>\n",
       "      <td>40</td>\n",
       "      <td>Cuba</td>\n",
       "      <td>&lt;=50K</td>\n",
       "    </tr>\n",
       "  </tbody>\n",
       "</table>\n",
       "</div>"
      ],
      "text/plain": [
       "        Date  Age          WorkClass  fnlwgt   education  education-num  \\\n",
       "0  3/20/1994   39          State-gov   77516   Bachelors             13   \n",
       "1  1/14/1994   50   Self-emp-not-inc   83311   Bachelors             13   \n",
       "2  8/14/1994   38            Private  215646     HS-grad              9   \n",
       "3  3/17/1994   53            Private  234721        11th              7   \n",
       "4  9/20/1994   28            Private  338409   Bachelors             13   \n",
       "\n",
       "        marital-status          occupation    relationship    race   gender  \\\n",
       "0        Never-married        Adm-clerical   Not-in-family   White     Male   \n",
       "1   Married-civ-spouse     Exec-managerial         Husband   White     Male   \n",
       "2             Divorced   Handlers-cleaners   Not-in-family   White     Male   \n",
       "3   Married-civ-spouse   Handlers-cleaners         Husband   Black     Male   \n",
       "4   Married-civ-spouse      Prof-specialty            Wife   Black   Female   \n",
       "\n",
       "   capital-gain  capital-loss  hours-per-week  native-country   class  \n",
       "0          2174             0              40   United-States   <=50K  \n",
       "1             0             0              13   United-States   <=50K  \n",
       "2             0             0              40   United-States   <=50K  \n",
       "3             0             0              40   United-States   <=50K  \n",
       "4             0             0              40            Cuba   <=50K  "
      ]
     },
     "execution_count": 116,
     "metadata": {},
     "output_type": "execute_result"
    }
   ],
   "source": [
    "#read the csv file into a Pandas data frame\n",
    "df_census = pd.read_csv('census1994.csv')\n",
    "\n",
    "#return the first 5 rows of the dataset\n",
    "df_census.head()"
   ]
  },
  {
   "cell_type": "markdown",
   "metadata": {},
   "source": [
    "# Task 1: Statistical Exploratory Data Analysis\n",
    "Let us start with getting know the dataset. Your first task will be to get some basic information by using Pandas features."
   ]
  },
  {
   "cell_type": "code",
   "execution_count": 117,
   "metadata": {},
   "outputs": [
    {
     "name": "stdout",
     "output_type": "stream",
     "text": [
      "(32561, 16)\n",
      "(30162, 16)\n",
      "Task 1-a: Details of df_census data frame are: \n",
      "              Date  Age          WorkClass  fnlwgt      education  \\\n",
      "0       3/20/1994   39          State-gov   77516      Bachelors   \n",
      "1       1/14/1994   50   Self-emp-not-inc   83311      Bachelors   \n",
      "2       8/14/1994   38            Private  215646        HS-grad   \n",
      "3       3/17/1994   53            Private  234721           11th   \n",
      "4       9/20/1994   28            Private  338409      Bachelors   \n",
      "5      11/28/1994   37            Private  284582        Masters   \n",
      "6        3/2/1994   49            Private  160187            9th   \n",
      "7      11/27/1994   52   Self-emp-not-inc  209642        HS-grad   \n",
      "8      12/25/1994   31            Private   45781        Masters   \n",
      "9      10/10/1994   42            Private  159449      Bachelors   \n",
      "10     10/29/1994   37            Private  280464   Some-college   \n",
      "11     11/10/1994   30          State-gov  141297      Bachelors   \n",
      "12       1/4/1994   23            Private  122272      Bachelors   \n",
      "13      2/15/1994   32            Private  205019     Assoc-acdm   \n",
      "15       9/1/1994   34            Private  245487        7th-8th   \n",
      "16      5/15/1994   25   Self-emp-not-inc  176756        HS-grad   \n",
      "17       1/5/1994   32            Private  186824        HS-grad   \n",
      "18      4/24/1994   38            Private   28887           11th   \n",
      "19      6/13/1994   43   Self-emp-not-inc  292175        Masters   \n",
      "20      2/19/1994   40            Private  193524      Doctorate   \n",
      "21      9/19/1994   54            Private  302146        HS-grad   \n",
      "22     10/22/1994   35        Federal-gov   76845            9th   \n",
      "23       1/4/1994   43            Private  117037           11th   \n",
      "24      8/10/1994   59            Private  109015        HS-grad   \n",
      "25      1/15/1994   56          Local-gov  216851      Bachelors   \n",
      "26      4/20/1994   19            Private  168294        HS-grad   \n",
      "28     10/25/1994   39            Private  367260        HS-grad   \n",
      "29      3/18/1994   49            Private  193366        HS-grad   \n",
      "30       6/4/1994   23          Local-gov  190709     Assoc-acdm   \n",
      "31       2/5/1994   20            Private  266015   Some-college   \n",
      "...           ...  ...                ...     ...            ...   \n",
      "32526    3/8/1994   32            Private  211349           10th   \n",
      "32527   3/13/1994   22            Private  203715   Some-college   \n",
      "32528   7/18/1994   31            Private  292592        HS-grad   \n",
      "32529   10/9/1994   29            Private  125976        HS-grad   \n",
      "32532   6/25/1994   34            Private  204461      Doctorate   \n",
      "32533    5/4/1994   54            Private  337992      Bachelors   \n",
      "32534   4/29/1994   37            Private  179137   Some-college   \n",
      "32535   9/15/1994   22            Private  325033           12th   \n",
      "32536   10/3/1994   34            Private  160216      Bachelors   \n",
      "32537   5/19/1994   30            Private  345898        HS-grad   \n",
      "32538    6/9/1994   38            Private  139180      Bachelors   \n",
      "32540   12/8/1994   45          State-gov  252208        HS-grad   \n",
      "32543   8/26/1994   45          Local-gov  119199     Assoc-acdm   \n",
      "32544  10/14/1994   31            Private  199655        Masters   \n",
      "32545   12/1/1994   39          Local-gov  111499     Assoc-acdm   \n",
      "32546   6/24/1994   37            Private  198216     Assoc-acdm   \n",
      "32547   11/4/1994   43            Private  260761        HS-grad   \n",
      "32548  10/27/1994   65   Self-emp-not-inc   99359    Prof-school   \n",
      "32549   8/12/1994   43          State-gov  255835   Some-college   \n",
      "32550   4/10/1994   43   Self-emp-not-inc   27242   Some-college   \n",
      "32551   2/28/1994   32            Private   34066           10th   \n",
      "32552   6/29/1994   43            Private   84661      Assoc-voc   \n",
      "32553   3/10/1994   32            Private  116138        Masters   \n",
      "32554   5/23/1994   53            Private  321865        Masters   \n",
      "32555   3/15/1994   22            Private  310152   Some-college   \n",
      "32556  12/29/1994   27            Private  257302     Assoc-acdm   \n",
      "32557   1/30/1994   40            Private  154374        HS-grad   \n",
      "32558   9/26/1994   58            Private  151910        HS-grad   \n",
      "32559    4/5/1994   22            Private  201490        HS-grad   \n",
      "32560    3/5/1994   52       Self-emp-inc  287927        HS-grad   \n",
      "\n",
      "       education-num          marital-status          occupation  \\\n",
      "0                 13           Never-married        Adm-clerical   \n",
      "1                 13      Married-civ-spouse     Exec-managerial   \n",
      "2                  9                Divorced   Handlers-cleaners   \n",
      "3                  7      Married-civ-spouse   Handlers-cleaners   \n",
      "4                 13      Married-civ-spouse      Prof-specialty   \n",
      "5                 14      Married-civ-spouse     Exec-managerial   \n",
      "6                  5   Married-spouse-absent       Other-service   \n",
      "7                  9      Married-civ-spouse     Exec-managerial   \n",
      "8                 14           Never-married      Prof-specialty   \n",
      "9                 13      Married-civ-spouse     Exec-managerial   \n",
      "10                10      Married-civ-spouse     Exec-managerial   \n",
      "11                13      Married-civ-spouse      Prof-specialty   \n",
      "12                13           Never-married        Adm-clerical   \n",
      "13                12           Never-married               Sales   \n",
      "15                 4      Married-civ-spouse    Transport-moving   \n",
      "16                 9           Never-married     Farming-fishing   \n",
      "17                 9           Never-married   Machine-op-inspct   \n",
      "18                 7      Married-civ-spouse               Sales   \n",
      "19                14                Divorced     Exec-managerial   \n",
      "20                16      Married-civ-spouse      Prof-specialty   \n",
      "21                 9               Separated       Other-service   \n",
      "22                 5      Married-civ-spouse     Farming-fishing   \n",
      "23                 7      Married-civ-spouse    Transport-moving   \n",
      "24                 9                Divorced        Tech-support   \n",
      "25                13      Married-civ-spouse        Tech-support   \n",
      "26                 9           Never-married        Craft-repair   \n",
      "28                 9                Divorced     Exec-managerial   \n",
      "29                 9      Married-civ-spouse        Craft-repair   \n",
      "30                12           Never-married     Protective-serv   \n",
      "31                10           Never-married               Sales   \n",
      "...              ...                     ...                 ...   \n",
      "32526              6      Married-civ-spouse    Transport-moving   \n",
      "32527             10           Never-married        Adm-clerical   \n",
      "32528              9      Married-civ-spouse   Machine-op-inspct   \n",
      "32529              9               Separated               Sales   \n",
      "32532             16      Married-civ-spouse      Prof-specialty   \n",
      "32533             13      Married-civ-spouse     Exec-managerial   \n",
      "32534             10                Divorced        Adm-clerical   \n",
      "32535              8           Never-married     Protective-serv   \n",
      "32536             13           Never-married     Exec-managerial   \n",
      "32537              9           Never-married        Craft-repair   \n",
      "32538             13                Divorced      Prof-specialty   \n",
      "32540              9               Separated        Adm-clerical   \n",
      "32543             12                Divorced      Prof-specialty   \n",
      "32544             14                Divorced       Other-service   \n",
      "32545             12      Married-civ-spouse        Adm-clerical   \n",
      "32546             12                Divorced        Tech-support   \n",
      "32547              9      Married-civ-spouse   Machine-op-inspct   \n",
      "32548             15           Never-married      Prof-specialty   \n",
      "32549             10                Divorced        Adm-clerical   \n",
      "32550             10      Married-civ-spouse        Craft-repair   \n",
      "32551              6      Married-civ-spouse   Handlers-cleaners   \n",
      "32552             11      Married-civ-spouse               Sales   \n",
      "32553             14           Never-married        Tech-support   \n",
      "32554             14      Married-civ-spouse     Exec-managerial   \n",
      "32555             10           Never-married     Protective-serv   \n",
      "32556             12      Married-civ-spouse        Tech-support   \n",
      "32557              9      Married-civ-spouse   Machine-op-inspct   \n",
      "32558              9                 Widowed        Adm-clerical   \n",
      "32559              9           Never-married        Adm-clerical   \n",
      "32560              9      Married-civ-spouse     Exec-managerial   \n",
      "\n",
      "          relationship                 race   gender  capital-gain  \\\n",
      "0        Not-in-family                White     Male          2174   \n",
      "1              Husband                White     Male             0   \n",
      "2        Not-in-family                White     Male             0   \n",
      "3              Husband                Black     Male             0   \n",
      "4                 Wife                Black   Female             0   \n",
      "5                 Wife                White   Female             0   \n",
      "6        Not-in-family                Black   Female             0   \n",
      "7              Husband                White     Male             0   \n",
      "8        Not-in-family                White   Female         14084   \n",
      "9              Husband                White     Male          5178   \n",
      "10             Husband                Black     Male             0   \n",
      "11             Husband   Asian-Pac-Islander     Male             0   \n",
      "12           Own-child                White   Female             0   \n",
      "13       Not-in-family                Black     Male             0   \n",
      "15             Husband   Amer-Indian-Eskimo     Male             0   \n",
      "16           Own-child                White     Male             0   \n",
      "17           Unmarried                White     Male             0   \n",
      "18             Husband                White     Male             0   \n",
      "19           Unmarried                White   Female             0   \n",
      "20             Husband                White     Male             0   \n",
      "21           Unmarried                Black   Female             0   \n",
      "22             Husband                Black     Male             0   \n",
      "23             Husband                White     Male             0   \n",
      "24           Unmarried                White   Female             0   \n",
      "25             Husband                White     Male             0   \n",
      "26           Own-child                White     Male             0   \n",
      "28       Not-in-family                White     Male             0   \n",
      "29             Husband                White     Male             0   \n",
      "30       Not-in-family                White     Male             0   \n",
      "31           Own-child                Black     Male             0   \n",
      "...                ...                  ...      ...           ...   \n",
      "32526          Husband                White     Male             0   \n",
      "32527        Own-child                White     Male             0   \n",
      "32528             Wife                White   Female             0   \n",
      "32529        Unmarried                White   Female             0   \n",
      "32532          Husband                White     Male             0   \n",
      "32533          Husband   Asian-Pac-Islander     Male             0   \n",
      "32534        Unmarried                White   Female             0   \n",
      "32535        Own-child                Black     Male             0   \n",
      "32536    Not-in-family                White   Female             0   \n",
      "32537    Not-in-family                Black     Male             0   \n",
      "32538        Unmarried                Black   Female         15020   \n",
      "32540        Own-child                White   Female             0   \n",
      "32543        Unmarried                White   Female             0   \n",
      "32544    Not-in-family                Other   Female             0   \n",
      "32545             Wife                White   Female             0   \n",
      "32546    Not-in-family                White   Female             0   \n",
      "32547          Husband                White     Male             0   \n",
      "32548    Not-in-family                White     Male          1086   \n",
      "32549   Other-relative                White   Female             0   \n",
      "32550          Husband                White     Male             0   \n",
      "32551          Husband   Amer-Indian-Eskimo     Male             0   \n",
      "32552          Husband                White     Male             0   \n",
      "32553    Not-in-family   Asian-Pac-Islander     Male             0   \n",
      "32554          Husband                White     Male             0   \n",
      "32555    Not-in-family                White     Male             0   \n",
      "32556             Wife                White   Female             0   \n",
      "32557          Husband                White     Male             0   \n",
      "32558        Unmarried                White   Female             0   \n",
      "32559        Own-child                White     Male             0   \n",
      "32560             Wife                White   Female         15024   \n",
      "\n",
      "       capital-loss  hours-per-week  native-country   class  \n",
      "0                 0              40   United-States   <=50K  \n",
      "1                 0              13   United-States   <=50K  \n",
      "2                 0              40   United-States   <=50K  \n",
      "3                 0              40   United-States   <=50K  \n",
      "4                 0              40            Cuba   <=50K  \n",
      "5                 0              40   United-States   <=50K  \n",
      "6                 0              16         Jamaica   <=50K  \n",
      "7                 0              45   United-States    >50K  \n",
      "8                 0              50   United-States    >50K  \n",
      "9                 0              40   United-States    >50K  \n",
      "10                0              80   United-States    >50K  \n",
      "11                0              40           India    >50K  \n",
      "12                0              30   United-States   <=50K  \n",
      "13                0              50   United-States   <=50K  \n",
      "15                0              45          Mexico   <=50K  \n",
      "16                0              35   United-States   <=50K  \n",
      "17                0              40   United-States   <=50K  \n",
      "18                0              50   United-States   <=50K  \n",
      "19                0              45   United-States    >50K  \n",
      "20                0              60   United-States    >50K  \n",
      "21                0              20   United-States   <=50K  \n",
      "22                0              40   United-States   <=50K  \n",
      "23             2042              40   United-States   <=50K  \n",
      "24                0              40   United-States   <=50K  \n",
      "25                0              40   United-States    >50K  \n",
      "26                0              40   United-States   <=50K  \n",
      "28                0              80   United-States   <=50K  \n",
      "29                0              40   United-States   <=50K  \n",
      "30                0              52   United-States   <=50K  \n",
      "31                0              44   United-States   <=50K  \n",
      "...             ...             ...             ...     ...  \n",
      "32526             0              40   United-States   <=50K  \n",
      "32527             0              40   United-States   <=50K  \n",
      "32528             0              40   United-States   <=50K  \n",
      "32529             0              35   United-States   <=50K  \n",
      "32532             0              60   United-States    >50K  \n",
      "32533             0              50           Japan    >50K  \n",
      "32534             0              39   United-States   <=50K  \n",
      "32535             0              35   United-States   <=50K  \n",
      "32536             0              55   United-States    >50K  \n",
      "32537             0              46   United-States   <=50K  \n",
      "32538             0              45   United-States    >50K  \n",
      "32540             0              40   United-States   <=50K  \n",
      "32543             0              48   United-States   <=50K  \n",
      "32544             0              30   United-States   <=50K  \n",
      "32545             0              20   United-States    >50K  \n",
      "32546             0              40   United-States   <=50K  \n",
      "32547             0              40          Mexico   <=50K  \n",
      "32548             0              60   United-States   <=50K  \n",
      "32549             0              40   United-States   <=50K  \n",
      "32550             0              50   United-States   <=50K  \n",
      "32551             0              40   United-States   <=50K  \n",
      "32552             0              45   United-States   <=50K  \n",
      "32553             0              11          Taiwan   <=50K  \n",
      "32554             0              40   United-States    >50K  \n",
      "32555             0              40   United-States   <=50K  \n",
      "32556             0              38   United-States   <=50K  \n",
      "32557             0              40   United-States    >50K  \n",
      "32558             0              40   United-States   <=50K  \n",
      "32559             0              20   United-States   <=50K  \n",
      "32560             0              40   United-States    >50K  \n",
      "\n",
      "[30162 rows x 16 columns]\n",
      "32561 16\n",
      "\n",
      "\n",
      "Task 1-b: Number of rows:32561 and number of columns:16\n",
      "\n",
      "\n",
      "Task 1-c: Descriptive details of age is \n",
      " 90 17 0.10    22.0\n",
      "0.25    28.0\n",
      "0.50    37.0\n",
      "0.75    47.0\n",
      "Name: Age, dtype: float64\n",
      "\n",
      "\n",
      "Task 1-d: The number of unique 1### : 16\n",
      "Task 1-d: The number of unique 2### : 94\n"
     ]
    }
   ],
   "source": [
    "#For each task below, look for a Pandas function to do the task.\n",
    "#Replace None in each task with your code.\n",
    "\n",
    "#Before starting with the tasks in the assignment, we need to remove the rows with missing values\n",
    "#write the code for it here and save the new data frame with the same name as df_census.\n",
    "###################begin your code.\n",
    "print(df_census.shape)\n",
    "#finding the value and replacing it with NaN  \n",
    "df = df_census.replace('[?]',np.nan,regex=True)\n",
    "df_census = df.dropna(how='any')\n",
    "print(df_census.shape)\n",
    "###################end your code.\n",
    "\n",
    "\n",
    "#Task 1-a: Print the details of the df_census data frame (information such as number of rows,columns, name of columns, etc)\n",
    "\n",
    "print(\"Task 1-a: Details of df_census data frame are: \\n\", df_census)\n",
    "total_rows=len(df.axes[0])\n",
    "total_cols=len(df.axes[1])\n",
    "print(total_rows, total_cols)\n",
    "\n",
    "#census1994.csv.info(verbose=None, buf=None, max_cols=None, memory_usage=None, null_counts=None)\n",
    "\n",
    "\n",
    "#Task 1-b: Find the number of rows and columns in the df_census data frame.\n",
    "num_rows = len(df.axes[0])\n",
    "num_cols = len(df.axes[1])\n",
    "print(\"\\n\\nTask 1-b: Number of rows:%s and number of columns:%s\" % (num_rows, num_cols)) \n",
    "\n",
    "\n",
    "#Task 1-c: Print the descriptive details (min, max, quartiles etc) for 'Age' column of the df_census\n",
    "max = df_census['Age'].max()\n",
    "min = df_census['Age'].min()\n",
    "quantiles = df_census['Age'].quantile([.1, .25, .5, .75])\n",
    "\n",
    "print(\"\\n\\nTask 1-c: Descriptive details of age is \\n\", max, min, quantiles)\n",
    "\n",
    "\n",
    "#Task 1-d: Print the number of unique values for 'education_num' and 'hours_per_week' columns\n",
    "num_uniq_1 = df_census['education-num'].nunique()\n",
    "num_uniq_2 = df_census['hours-per-week'].nunique()\n",
    "print(\"\\n\\nTask 1-d: The number of unique 1### :\", num_uniq_1)\n",
    "print(\"Task 1-d: The number of unique 2### :\", num_uniq_2)\n"
   ]
  },
  {
   "cell_type": "markdown",
   "metadata": {},
   "source": [
    "# Task 2: Aggregation & Filtering & Rank\n",
    "In this task, we will perform some very high level aggregation and filtering operations. Then, we will apply ranking on the results for some tasks. Pandas has a convenient and powerful syntax for aggregation, filtering, and ranking. DO NOT write a for loop. Pandas has built-in functions for all tasks. "
   ]
  },
  {
   "cell_type": "code",
   "execution_count": 118,
   "metadata": {},
   "outputs": [
    {
     "name": "stdout",
     "output_type": "stream",
     "text": [
      "Task 2-a: The sum of capital gain for education level as bachelors is 8751485 and as HS-Grad is 5799557\n"
     ]
    },
    {
     "name": "stderr",
     "output_type": "stream",
     "text": [
      "c:\\users\\sanju\\appdata\\local\\programs\\python\\python37-32\\lib\\site-packages\\ipykernel_launcher.py:3: SettingWithCopyWarning: \n",
      "A value is trying to be set on a copy of a slice from a DataFrame.\n",
      "Try using .loc[row_indexer,col_indexer] = value instead\n",
      "\n",
      "See the caveats in the documentation: http://pandas.pydata.org/pandas-docs/stable/indexing.html#indexing-view-versus-copy\n",
      "  This is separate from the ipykernel package so we can avoid doing imports until\n"
     ]
    },
    {
     "name": "stdout",
     "output_type": "stream",
     "text": [
      "(30162, 17)\n",
      "\n",
      "\n",
      "Task 2-b: The total number of surveys in may is 2510, in october is 2510, and in december is 2602\n",
      "\n",
      "\n",
      "Task 2-c: The total number of surveys that meet the given conditions in september is Date              1465\n",
      "Age               1465\n",
      "WorkClass         1465\n",
      "fnlwgt            1465\n",
      "education         1465\n",
      "education-num     1465\n",
      "marital-status    1465\n",
      "occupation        1465\n",
      "relationship      1465\n",
      "race              1465\n",
      "gender            1465\n",
      "capital-gain      1465\n",
      "capital-loss      1465\n",
      "hours-per-week    1465\n",
      "native-country    1465\n",
      "class             1465\n",
      "Survey_Month      1465\n",
      "dtype: int64 and in november is Date              1507\n",
      "Age               1507\n",
      "WorkClass         1507\n",
      "fnlwgt            1507\n",
      "education         1507\n",
      "education-num     1507\n",
      "marital-status    1507\n",
      "occupation        1507\n",
      "relationship      1507\n",
      "race              1507\n",
      "gender            1507\n",
      "capital-gain      1507\n",
      "capital-loss      1507\n",
      "hours-per-week    1507\n",
      "native-country    1507\n",
      "class             1507\n",
      "Survey_Month      1507\n",
      "dtype: int64\n",
      "\n",
      "\n",
      "Task 2-d: \n",
      "The top 3 least surveyed education categories in January-June: \n",
      "education\n",
      "Preschool     19\n",
      "1st-4th       74\n",
      "5th-6th      156\n",
      "Name: education, dtype: int64 \n",
      "\n",
      "The top 3 least surveyed education categories in July-December: \n",
      "education\n",
      "Preschool     26\n",
      "1st-4th       77\n",
      "5th-6th      132\n",
      "Name: education, dtype: int64\n",
      "\n",
      "\n",
      "Task 2-e: \n",
      "The top 5 most surveyed native countries : \n",
      "native-country\n",
      " Mexico         610\n",
      " Philippines    188\n",
      " Germany        128\n",
      " Puerto-Rico    109\n",
      " Canada         107\n",
      "Name: native-country, dtype: int64\n",
      "\n",
      "\n",
      "Task 2-f: \n",
      "The top 5 native countries with the most number of surveys with class >50K: \n",
      "native-country\n",
      " United-States    6995\n",
      " Philippines        60\n",
      " Germany            44\n",
      " India              40\n",
      " Canada             36\n",
      "Name: native-country, dtype: int64\n"
     ]
    },
    {
     "name": "stderr",
     "output_type": "stream",
     "text": [
      "c:\\users\\sanju\\appdata\\local\\programs\\python\\python37-32\\lib\\site-packages\\ipykernel_launcher.py:20: SettingWithCopyWarning: \n",
      "A value is trying to be set on a copy of a slice from a DataFrame.\n",
      "Try using .loc[row_indexer,col_indexer] = value instead\n",
      "\n",
      "See the caveats in the documentation: http://pandas.pydata.org/pandas-docs/stable/indexing.html#indexing-view-versus-copy\n"
     ]
    }
   ],
   "source": [
    "#Task 2-a: Find out the sum of Captial Gain for people with education level as Bachelors and HS-Grad.\n",
    "\n",
    "df_census['education'] = df_census['education'].str.strip()\n",
    "#df.loc[df['a'] == 1, 'b'].sum()\n",
    "\n",
    "sum_capital_gain_bachelors = df_census.loc[(df_census['education'] == 'Bachelors'), 'capital-gain'].sum()\n",
    "sum_capital_gain_HS_Grad = df_census.loc[(df_census['education'] == 'HS-grad'), 'capital-gain'].sum()\n",
    "\n",
    "\n",
    "print (\"Task 2-a: The sum of capital gain for education level as bachelors is %s and as HS-Grad is %s\" \n",
    "       % (sum_capital_gain_bachelors, sum_capital_gain_HS_Grad))\n",
    "\n",
    "\n",
    "\n",
    "#Task 2-b: Find out the total number of people surveyed in months may, october and december.\n",
    "#Create a new column for 'Survey_Month' by using 'Date' column\n",
    "#write the code for extracting the month from the date column here\n",
    "\n",
    "###############begin your code here\n",
    "df_census['Survey_Month'] = pd.DatetimeIndex(df_census['Date']).month\n",
    "print(df_census.shape)\n",
    "\n",
    "#df_census.groupby('may').count()\n",
    "#(df[education]=='9th').sum()\n",
    "#(df_census['Survey_Month']=='5').sum()\n",
    "#df_census.loc[df_census.Survey_Month == '5', 'Survey_Month'].count()\n",
    "\n",
    "\n",
    "###############send you code here\n",
    "\n",
    "num_surveys_may = df_census[df_census['Survey_Month']==5].groupby(['Survey_Month'])['Survey_Month'].count().sum()\n",
    "num_surveys_october = df_census[df_census['Survey_Month']==10].groupby(['Survey_Month'])['Survey_Month'].count().sum()\n",
    "num_surveys_december = df_census[df_census['Survey_Month']==12].groupby(['Survey_Month'])['Survey_Month'].count().sum()\n",
    "print (\"\\n\\nTask 2-b: The total number of surveys in may is %s, in october is %s, and in december is %s\" \n",
    "       % (num_surveys_may, num_surveys_october, num_surveys_december))\n",
    "\n",
    "\n",
    "#Task 2-c: Let us now use multiple filtering criteria\n",
    "# Find out the total number of surveys in september and november with workclass as private and age less than 50.\n",
    "\n",
    "num_surveys_september = df_census[(df_census['Survey_Month']==9) & (df_census['WorkClass']== ' Private') & (df_census['Age'] < 50)].count()\n",
    "num_surveys_november = df_census[(df_census['Survey_Month']==11) & (df_census['WorkClass']== ' Private') & (df_census['Age'] < 50)].count()\n",
    "\n",
    "#print(\"This is task-2c\")\n",
    "#df_census.sort_values(by =['Survey_Month'])\n",
    "##df1.head()\n",
    "##print(\"This is df1:\\n\", df1)\n",
    "\n",
    "print (\"\\n\\nTask 2-c: The total number of surveys that meet the given conditions in september is %s and in november is %s\" \n",
    "       % (num_surveys_september, num_surveys_november))\n",
    "\n",
    "\n",
    "#Task 2-d: Find out 3 least surveyed education categories, print their names and corresponding number of surveys for periods January-June and July-December.\n",
    "\n",
    "top3_least_surveyed_Jan_June = df_census[(df_census['Survey_Month'] == 1) | (df_census['Survey_Month'] == 2) | (df_census['Survey_Month'] == 3) | (df_census['Survey_Month'] == 4) | (df_census['Survey_Month'] == 5) | (df_census['Survey_Month'] == 6)].groupby(['education'])['education'].count().sort_values(ascending = True).head(3)\n",
    "\n",
    "top3_least_surveyed_July_December = df_census[(df_census['Survey_Month'] == 7) | (df_census['Survey_Month'] == 8) | (df_census['Survey_Month'] == 9) | (df_census['Survey_Month'] == 10) | (df_census['Survey_Month'] == 11) | (df_census['Survey_Month'] == 12)].groupby(['education'])['education'].count().sort_values(ascending = True).head(3)\n",
    "print (\"\\n\\nTask 2-d: \\nThe top 3 least surveyed education categories in January-June: \\n%s \\n\\nThe top 3 least surveyed education categories in July-December: \\n%s\" \n",
    "                     % (top3_least_surveyed_Jan_June,top3_least_surveyed_July_December))\n",
    "\n",
    "\n",
    "#Task 2-e: Find out top 5 native-countries besides United-States, print their names and number of surveys belonging to each.\n",
    "\n",
    "top5_most_surveyed_native_countries = df_census[df_census['native-country']!=' United-States'].groupby(['native-country'])['native-country'].count().sort_values(ascending = False).head(5)\n",
    "print (\"\\n\\nTask 2-e: \\nThe top 5 most surveyed native countries : \\n%s\" \n",
    "                     % (top5_most_surveyed_native_countries))\n",
    "\n",
    "\n",
    "#Task 2-f: Find out Top-5 native-countries with the most number of samples belonging to class >50K\n",
    "\n",
    "top5_native_countries = df_census[df_census['class']==' >50K'].groupby(['native-country'])['native-country'].count().sort_values(ascending = False).head(5)\n",
    "print (\"\\n\\nTask 2-f: \\nThe top 5 native countries with the most number of surveys with class >50K: \\n%s\" \n",
    "                     % (top5_native_countries))\n"
   ]
  },
  {
   "cell_type": "markdown",
   "metadata": {},
   "source": [
    "# Task 3: Visualization\n",
    "In this task, you will perform a number of visualization tasks to get some intuition about the data. Visualization is a key component of exploration. You can choose to use either Matplotlib or Seaborn for plotting. The default figures generated from Matplotlib might look a bit ugly. So you might want to try Seaborn to get better figures. Seaborn has a variety of styles. Feel free to experiment with them and choose the one you like. We have earmarked 10 points for the aesthetics of your visualizations."
   ]
  },
  {
   "cell_type": "code",
   "execution_count": 119,
   "metadata": {},
   "outputs": [
    {
     "name": "stdout",
     "output_type": "stream",
     "text": [
      "This is task 3-a\n"
     ]
    },
    {
     "data": {
      "text/plain": [
       "(0.0, 13.0)"
      ]
     },
     "execution_count": 119,
     "metadata": {},
     "output_type": "execute_result"
    },
    {
     "data": {
      "image/png": "[encoded data removed]",
      "text/plain": [
       "<Figure size 432x288 with 1 Axes>"
      ]
     },
     "metadata": {
      "needs_background": "light"
     },
     "output_type": "display_data"
    }
   ],
   "source": [
    "#Task 3-a: Draw a histogram for total number of surveys taken each month. Dislpay months with their corresponding numbers(Eg: January is 1) \n",
    "#########################begin code for Task 3-a\n",
    "print(\"This is task 3-a\")\n",
    "df_census['Survey_Month'].hist(bins=50, grid=False, xlabelsize=12, ylabelsize=12)\n",
    "plt.xlabel(\"Survey_Month\", fontsize=15)\n",
    "plt.ylabel(\"No. of surveys\", fontsize=15)\n",
    "plt.xticks(np.arange(1,13,1))\n",
    "\n",
    "#sns.distplot(df_census['Survey_Month'])\n",
    "plt.xlim([0.0,13.0])\n",
    "\n",
    "#########################end code for Task 3-a\n"
   ]
  },
  {
   "cell_type": "code",
   "execution_count": 120,
   "metadata": {},
   "outputs": [
    {
     "data": {
      "text/plain": [
       "(0, 13)"
      ]
     },
     "execution_count": 120,
     "metadata": {},
     "output_type": "execute_result"
    },
    {
     "data": {
      "image/png": "[encoded data removed]",
      "text/plain": [
       "<Figure size 360x216 with 1 Axes>"
      ]
     },
     "metadata": {
      "needs_background": "light"
     },
     "output_type": "display_data"
    }
   ],
   "source": [
    "#Task 3-b: Draw a vertical bar chart for total number of surveys taken for each gender for each month. Display months with their corresponding names.\n",
    "# Remember to make the bar chart into a vertical bar chart\n",
    "#########################begin code for Task 3-b\n",
    "#num_surveys_may = df_census[df_census['Survey_Month']==5].groupby(['Survey_Month'])['Survey_Month'].count().sum()\n",
    "#df_census['gender'] = df_census['gender'].str.strip()\n",
    "#surveys_per_gender_per_month = df_census['Survey_Month'].groupby(['gender' = \" Male\"])['Survey_Month'].count()\n",
    "#print (\"\\n\\nTask 3-b: The total number of surveys in may is %s\" \n",
    "#       % (surveys_per_gender_per_month))\n",
    "\n",
    "plt.figure(figsize=(5,3))\n",
    "survey_count = df_census.groupby(['gender'])['Survey_Month'].count()\n",
    "ax = sns.barplot(x='gender', y='Survey_Month',hue='gender', data=df_census)\n",
    "ax.set(ylabel='Month')\n",
    "plt.ylim(0,13)\n",
    "\n",
    "\n",
    "\n",
    "#########################end code for Task 3-b"
   ]
  },
  {
   "cell_type": "code",
   "execution_count": 121,
   "metadata": {},
   "outputs": [
    {
     "data": {
      "text/plain": [
       "Text(0, 0.5, 'Age')"
      ]
     },
     "execution_count": 121,
     "metadata": {},
     "output_type": "execute_result"
    },
    {
     "data": {
      "image/png": "[encoded data removed]",
      "text/plain": [
       "<Figure size 432x288 with 1 Axes>"
      ]
     },
     "metadata": {
      "needs_background": "light"
     },
     "output_type": "display_data"
    }
   ],
   "source": [
    "#Task 3-c: Draw a horizontal bar chart for number of surveys taken with respect to age feature keeping the age interval as 15.\n",
    "# Remember to make the bar chart into a horizontal bar chart\n",
    "#########################begin code for Task 3-c\n",
    "\n",
    "hbar2 = df_census.sort_values(by=['Age'],ascending = False)\n",
    "result2 = hbar2.Age.value_counts().head()\n",
    "result2.plot(kind='barh')\n",
    "plt.xlabel('No. of surveys')\n",
    "plt.ylabel('Age')\n",
    "#plt.yticks(np.arange(6,92,15))\n",
    "\n",
    "#sns.distplot(df_census['Survey_Month'])\n",
    "#plt.ylim([0,100])\n",
    "\n",
    "#plt.show()\n",
    "\n",
    "#########################end code for Task 3-c"
   ]
  },
  {
   "cell_type": "code",
   "execution_count": 122,
   "metadata": {},
   "outputs": [
    {
     "data": {
      "image/png": "[encoded data removed]",
      "text/plain": [
       "<Figure size 504x360 with 1 Axes>"
      ]
     },
     "metadata": {
      "needs_background": "light"
     },
     "output_type": "display_data"
    }
   ],
   "source": [
    "#Task 3-d: Draw a \"vertical\" bar chart that lists the top-5 native-countries based on the number of samples with class >50K.\n",
    "# Remember to make the bar chart into a vertical bar chart\n",
    "#########################begin code for Task 3-d\n",
    "#ax = df.plot.barh(y='speed')\n",
    "#series.plot(kind='bar')\n",
    "plt.figure(figsize=(7,5))\n",
    "top5_native_countries1 = df_census[df_census['class']==' >50K'].groupby(['native-country'])['native-country'].count().sort_values(ascending = False).head(5)\n",
    "top5_native_countries1.plot(kind='bar', color='red')\n",
    "plt.ylabel('No. of samples')\n",
    "plt.yticks(np.arange(0,7500,1000))\n",
    "plt.show()\n",
    "\n",
    "#########################end code for Task 3-d"
   ]
  },
  {
   "cell_type": "code",
   "execution_count": 123,
   "metadata": {},
   "outputs": [
    {
     "data": {
      "image/png": "[encoded data removed]",
      "text/plain": [
       "<Figure size 432x288 with 1 Axes>"
      ]
     },
     "metadata": {
      "needs_background": "light"
     },
     "output_type": "display_data"
    }
   ],
   "source": [
    "#Task 3-e: Now repeat Task 3-d based on education (again top-5)\n",
    "#########################begin code for Task 3-e\n",
    "\n",
    "top5_native_countries_education = df_census[df_census['class']==' >50K'].groupby(['education'])['education'].count().sort_values(ascending = False).head(5)\n",
    "top5_native_countries_education.plot(kind='bar', color = 'orange')\n",
    "plt.ylabel('No. of Surveys')\n",
    "plt.show()\n",
    "#########################end code for Task 3-e"
   ]
  },
  {
   "cell_type": "code",
   "execution_count": null,
   "metadata": {},
   "outputs": [],
   "source": []
  },
  {
   "cell_type": "code",
   "execution_count": 124,
   "metadata": {},
   "outputs": [
    {
     "data": {
      "text/plain": [
       "Text(0, 0.5, 'Hours/week')"
      ]
     },
     "execution_count": 124,
     "metadata": {},
     "output_type": "execute_result"
    },
    {
     "data": {
      "image/png": "[encoded data removed]",
      "text/plain": [
       "<Figure size 432x288 with 1 Axes>"
      ]
     },
     "metadata": {
      "needs_background": "light"
     },
     "output_type": "display_data"
    }
   ],
   "source": [
    "#Task 3-f: Draw a scatter plot for age vs hours per week.\n",
    "#########################begin code for Task 3-f\n",
    "\n",
    "plt.scatter(df_census['Age'],df_census['hours-per-week'],s = 1.5,color='green')\n",
    "plt.xlabel('Age')\n",
    "plt.ylabel('Hours/week')\n",
    "\n",
    "#########################end code for Task 3-f"
   ]
  },
  {
   "cell_type": "code",
   "execution_count": 125,
   "metadata": {},
   "outputs": [
    {
     "data": {
      "image/png": "[encoded data removed]",
      "text/plain": [
       "<Figure size 504x360 with 1 Axes>"
      ]
     },
     "metadata": {
      "needs_background": "light"
     },
     "output_type": "display_data"
    }
   ],
   "source": [
    "#Task 3-g: Draw a line chart showing average capital gain for each education category.\n",
    "# X-axis : education category, Y-axis : the avg capital gain\n",
    "#########################begin code for Task 3-g\n",
    "plt.figure(figsize=(7,5))\n",
    "line_chart = df_census.groupby('education')['capital-gain'].mean()\n",
    "line_chart.plot.line()\n",
    "plt.ylabel('Average-capital-gain')\n",
    "plt.show()\n",
    "\n",
    "#########################end code for Task 3-g"
   ]
  },
  {
   "cell_type": "code",
   "execution_count": 126,
   "metadata": {},
   "outputs": [
    {
     "data": {
      "text/plain": [
       "<matplotlib.axes._subplots.AxesSubplot at 0x11fe0a50>"
      ]
     },
     "execution_count": 126,
     "metadata": {},
     "output_type": "execute_result"
    },
    {
     "data": {
      "image/png": "[encoded data removed]",
      "text/plain": [
       "<Figure size 432x288 with 1 Axes>"
      ]
     },
     "metadata": {
      "needs_background": "light"
     },
     "output_type": "display_data"
    }
   ],
   "source": [
    "#Task 3-h: Draw a 'horizontal' bar chart for the top-5 most common occupation. \n",
    "#########################begin code for Task 3-h\n",
    "\n",
    "hbar = df_census.sort_values(by=['occupation'],ascending = False)\n",
    "result = hbar.occupation.value_counts().head()\n",
    "result.plot(kind='barh',color='pink')\n",
    "\n",
    "#########################end code for Task 3-h"
   ]
  },
  {
   "cell_type": "code",
   "execution_count": 127,
   "metadata": {},
   "outputs": [
    {
     "data": {
      "text/plain": [
       "<matplotlib.axes._subplots.AxesSubplot at 0x148d05d0>"
      ]
     },
     "execution_count": 127,
     "metadata": {},
     "output_type": "execute_result"
    },
    {
     "data": {
      "image/png": "[encoded data removed]",
      "text/plain": [
       "<Figure size 432x288 with 1 Axes>"
      ]
     },
     "metadata": {
      "needs_background": "light"
     },
     "output_type": "display_data"
    }
   ],
   "source": [
    "#Task 3-i: Draw a 'horizontal' bar chart for the top-5 most common workclass. \n",
    "#########################begin code for Task 3-i\n",
    "horiz_bar = df_census.sort_values(by=['WorkClass'],ascending = False)\n",
    "result1 = horiz_bar.WorkClass.value_counts().head()\n",
    "result1.plot(kind='barh',color='green')\n",
    "\n",
    "#########################end code for Task 3-i"
   ]
  },
  {
   "cell_type": "markdown",
   "metadata": {},
   "source": [
    "# Task 4: \n",
    "Find out an interesting information from your census1994 dataset. Create a visualization for it. \n",
    "This task is worth 20 points. Your result will be judged based on the uniqueness and quality of your work (having a meaningful result and an aesthetic visulization). "
   ]
  },
  {
   "cell_type": "code",
   "execution_count": 128,
   "metadata": {},
   "outputs": [
    {
     "name": "stderr",
     "output_type": "stream",
     "text": [
      "c:\\users\\sanju\\appdata\\local\\programs\\python\\python37-32\\lib\\site-packages\\seaborn\\categorical.py:3666: UserWarning: The `factorplot` function has been renamed to `catplot`. The original name will be removed in a future release. Please update your code. Note that the default `kind` in `factorplot` (`'point'`) has changed `'strip'` in `catplot`.\n",
      "  warnings.warn(msg)\n",
      "c:\\users\\sanju\\appdata\\local\\programs\\python\\python37-32\\lib\\site-packages\\seaborn\\categorical.py:3672: UserWarning: The `size` paramter has been renamed to `height`; please update your code.\n",
      "  warnings.warn(msg, UserWarning)\n"
     ]
    },
    {
     "data": {
      "image/png": "[encoded data removed]",
      "text/plain": [
       "<Figure size 360x360 with 1 Axes>"
      ]
     },
     "metadata": {
      "needs_background": "light"
     },
     "output_type": "display_data"
    }
   ],
   "source": [
    "#########################begin code for Task 4\n",
    "#Let's try to plot 'Hours worked' against 'Education-Num' (the level of education) to see what group of people are \n",
    "#working more in a week.\n",
    "#So after the plotting the graph we find that., of all the education-num groups...the highest education-num level group \n",
    "#(level 16) works for the highest period in a week.\n",
    "\n",
    "chart = sns.factorplot(x=\"education-num\",y=\"hours-per-week\",data=df_census,kind=\"bar\",size = 5,palette = \"muted\")\n",
    "chart.despine(left=True)\n",
    "chart = chart.set_ylabels(\"Hours/Week\")\n",
    "\n",
    "\n",
    "#########################end code for Task 4"
   ]
  },
  {
   "cell_type": "markdown",
   "metadata": {},
   "source": [
    "# Grading\n",
    "\n",
    "Task 1: 10 points\n",
    "Task 2: 30 points\n",
    "Task 3: 40 points\n",
    "Task 4: 20 points\n"
   ]
  }
 ],
 "metadata": {
  "kernelspec": {
   "display_name": "Python 3",
   "language": "python",
   "name": "python3"
  },
  "language_info": {
   "codemirror_mode": {
    "name": "ipython",
    "version": 3
   },
   "file_extension": ".py",
   "mimetype": "text/x-python",
   "name": "python",
   "nbconvert_exporter": "python",
   "pygments_lexer": "ipython3",
   "version": "3.7.3"
  }
 },
 "nbformat": 4,
 "nbformat_minor": 1
}
